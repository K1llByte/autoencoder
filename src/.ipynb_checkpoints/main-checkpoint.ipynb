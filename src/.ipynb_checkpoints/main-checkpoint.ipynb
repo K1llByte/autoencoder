{
 "cells": [
  {
   "cell_type": "markdown",
   "metadata": {},
   "source": [
    "# Tecnologias e Aplicações"
   ]
  },
  {
   "cell_type": "code",
   "execution_count": 12,
   "metadata": {},
   "outputs": [],
   "source": [
    "from autoencoder import fetch_data, make_model, train, latent_predict, load_and_predict, IMAGE_SIZE, NUM_CLASSES, get_bytes\n",
    "import matplotlib.pyplot as plt\n",
    "import tensorflow as tf\n",
    "import numpy as np"
   ]
  },
  {
   "cell_type": "code",
   "execution_count": 2,
   "metadata": {},
   "outputs": [],
   "source": [
    "# Fetch 'chinese_mnist' dataset and prepare data\n",
    "data = fetch_data(\"../data/chinese_mnist\")"
   ]
  },
  {
   "cell_type": "code",
   "execution_count": 3,
   "metadata": {},
   "outputs": [],
   "source": [
    "# Make and compile Encode & Decoder\n",
    "model = make_model(NUM_CLASSES, IMAGE_SIZE)"
   ]
  },
  {
   "cell_type": "code",
   "execution_count": 4,
   "metadata": {
    "tags": []
   },
   "outputs": [
    {
     "name": "stdout",
     "output_type": "stream",
     "text": [
      "WARNING:tensorflow:No training configuration found in the save file, so the model was *not* compiled. Compile it manually.\n",
      "WARNING:tensorflow:No training configuration found in the save file, so the model was *not* compiled. Compile it manually.\n",
      "[INFO] Loaded Trained Model\n"
     ]
    }
   ],
   "source": [
    "# Train or load a pretrained model if it exists\n",
    "epochs=25\n",
    "model = train(model, data, model_file=f'../models/ae_{epochs}epochs', num_epochs=epochs)"
   ]
  },
  {
   "cell_type": "code",
   "execution_count": 5,
   "metadata": {},
   "outputs": [],
   "source": [
    "#tf.keras.utils.plot_model(model[0],show_shapes=True)\n",
    "#tf.keras.utils.plot_model(model[1],show_shapes=True)\n",
    "#tf.keras.utils.plot_model(model[2],show_shapes=True)"
   ]
  },
  {
   "cell_type": "code",
   "execution_count": 18,
   "metadata": {},
   "outputs": [
    {
     "name": "stdout",
     "output_type": "stream",
     "text": [
      "[[-4.165648   -2.4604547  -3.3992493  ... -1.93575     2.2863975\n",
      "  -1.7856199 ]\n",
      " [-3.379291   -2.4546835  -3.21991    ... -1.8363934   1.8184592\n",
      "  -2.2246132 ]\n",
      " [-2.78845    -1.4248904  -4.362605   ... -0.14780086  1.2418646\n",
      "  -0.0357585 ]\n",
      " ...\n",
      " [-1.5594047  -2.1101437  -1.7118407  ...  0.20604387  0.38486508\n",
      "   1.597252  ]\n",
      " [-3.403119   -3.8946135  -2.2184012  ... -1.151267    2.9202254\n",
      "  -1.0608124 ]\n",
      " [-4.165648   -2.460455   -3.3992493  ... -1.93575     2.2863975\n",
      "  -1.7856199 ]]\n"
     ]
    }
   ],
   "source": [
    "#pred = latent_predict(model, [[5, 5]])\n",
    "#list(data[1])\n",
    "\n",
    "#plt.imshow(pred.squeeze())\n",
    "\n",
    "#print((list(data[1])[0]))\n",
    "\n",
    "\n",
    "#preds = load_and_predict(model, data)\n",
    "\n",
    "chosen_idx = 0\n",
    "chosen_img = list(data[1])[chosen_idx][1].numpy()[0]\n",
    "\n",
    "#chosen_img = tf.convert_to_tensor(chosen_img, dtype=tf.float32)\n",
    "\n",
    "#thing = list(data[1])[chosen_idx]\n",
    "#print(len(thing))\n",
    "#print(thing)\n",
    "\n",
    "encoder, decoder, autoencoder = model\n",
    "\n",
    "AUTOTUNE = tf.data.experimental.AUTOTUNE\n",
    "aaa = tf.data.Dataset.list_files(f\"../data/chinese_mnist/train_images/1/input_1_3_1.jpg\")\n",
    "bbb = aaa.map(get_bytes, num_parallel_calls=AUTOTUNE)\n",
    "    \n",
    "#chosen_img_ds = tf.data.Dataset.from_tensor_slices([chosen_img,chosen_img])\n",
    "\n",
    "#print(\"Len Single DS\",chosen_img_ds)\n",
    "#print(\"Single DS\",chosen_img_ds)\n",
    "#print(\"Full DS\",data[1])\n",
    "\n",
    "res = autoencoder.predict(bbb)\n",
    "print(res)\n",
    "#pred = autoencoder.predict(chosen_img)\n"
   ]
  },
  {
   "cell_type": "code",
   "execution_count": 20,
   "metadata": {},
   "outputs": [
    {
     "data": {
      "text/plain": [
       "<matplotlib.image.AxesImage at 0x7faa303a1e50>"
      ]
     },
     "execution_count": 20,
     "metadata": {},
     "output_type": "execute_result"
    },
    {
     "data": {
      "image/png": "[encoded data removed]",
      "text/plain": [
       "<Figure size 432x288 with 1 Axes>"
      ]
     },
     "metadata": {
      "needs_background": "light"
     },
     "output_type": "display_data"
    }
   ],
   "source": [
    "idx = 12\n",
    "#plt.imshow(preds[idx])\n",
    "plt.imshow(res)\n",
    "#autoencoder.predict(data[1])"
   ]
  },
  {
   "cell_type": "code",
   "execution_count": null,
   "metadata": {},
   "outputs": [],
   "source": [
    "#print( list(data[1])[idx] )\n",
    "img = list(data[1])[idx][1].numpy()[0]\n",
    "plt.imshow(img)"
   ]
  },
  {
   "cell_type": "code",
   "execution_count": null,
   "metadata": {},
   "outputs": [],
   "source": []
  },
  {
   "cell_type": "code",
   "execution_count": null,
   "metadata": {
    "jupyter": {
     "source_hidden": true
    },
    "tags": []
   },
   "outputs": [],
   "source": []
  },
  {
   "cell_type": "code",
   "execution_count": null,
   "metadata": {
    "tags": []
   },
   "outputs": [],
   "source": []
  }
 ],
 "metadata": {
  "kernelspec": {
   "display_name": "Python 3",
   "language": "python",
   "name": "python3"
  },
  "language_info": {
   "codemirror_mode": {
    "name": "ipython",
    "version": 3
   },
   "file_extension": ".py",
   "mimetype": "text/x-python",
   "name": "python",
   "nbconvert_exporter": "python",
   "pygments_lexer": "ipython3",
   "version": "3.9.2"
  }
 },
 "nbformat": 4,
 "nbformat_minor": 5
}
