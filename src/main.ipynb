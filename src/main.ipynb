{
 "cells": [
  {
   "cell_type": "markdown",
   "id": "compatible-format",
   "metadata": {},
   "source": [
    "# Tecnologias e Aplicações"
   ]
  },
  {
   "cell_type": "code",
   "execution_count": 1,
   "id": "subtle-passion",
   "metadata": {},
   "outputs": [],
   "source": [
    "from autoencoder import fetch_data, make_model, train, latent_predict, load_and_predict, IMAGE_SIZE, NUM_CLASSES\n",
    "import matplotlib.pyplot as plt\n",
    "import tensorflow as tf"
   ]
  },
  {
   "cell_type": "code",
   "execution_count": 2,
   "id": "assured-behalf",
   "metadata": {},
   "outputs": [],
   "source": [
    "# Fetch 'chinese_mnist' dataset and prepare data\n",
    "data = fetch_data(\"../data/chinese_mnist\")"
   ]
  },
  {
   "cell_type": "code",
   "execution_count": 3,
   "id": "equipped-experience",
   "metadata": {},
   "outputs": [],
   "source": [
    "# Make and compile Encode & Decoder\n",
    "model = make_model(NUM_CLASSES, IMAGE_SIZE)"
   ]
  },
  {
   "cell_type": "code",
   "execution_count": 4,
   "id": "unlike-guide",
   "metadata": {},
   "outputs": [
    {
     "name": "stdout",
     "output_type": "stream",
     "text": [
      "WARNING:tensorflow:No training configuration found in the save file, so the model was *not* compiled. Compile it manually.\n",
      "WARNING:tensorflow:No training configuration found in the save file, so the model was *not* compiled. Compile it manually.\n",
      "[INFO] Loaded Trained Model\n"
     ]
    }
   ],
   "source": [
    "# Train or load a pretrained model if it exists\n",
    "epochs=20\n",
    "model = train(model, data, model_file=f'../models/ae_{epochs}epochs', num_epochs=epochs)"
   ]
  },
  {
   "cell_type": "code",
   "execution_count": 5,
   "id": "fixed-outdoors",
   "metadata": {},
   "outputs": [],
   "source": [
    "#tf.keras.utils.plot_model(model[0],show_shapes=True)\n",
    "#tf.keras.utils.plot_model(model[1],show_shapes=True)\n",
    "#tf.keras.utils.plot_model(model[2],show_shapes=True)"
   ]
  },
  {
   "cell_type": "code",
   "execution_count": 7,
   "id": "quiet-falls",
   "metadata": {},
   "outputs": [
    {
     "name": "stdout",
     "output_type": "stream",
     "text": [
      "ok1\n",
      "ok2\n"
     ]
    }
   ],
   "source": [
    "#pred = latent_predict(model, [[5, 5]])\n",
    "#list(data[1])\n",
    "\n",
    "#plt.imshow(pred.squeeze())\n",
    "\n",
    "#print(list(data[1]))\n",
    "\n",
    "preds = load_and_predict(model, data)"
   ]
  },
  {
   "cell_type": "code",
   "execution_count": 40,
   "id": "champion-invite",
   "metadata": {},
   "outputs": [
    {
     "data": {
      "text/plain": [
       "<matplotlib.image.AxesImage at 0x7fbcf5f16b50>"
      ]
     },
     "execution_count": 40,
     "metadata": {},
     "output_type": "execute_result"
    },
    {
     "data": {
      "image/png": "[encoded data removed]",
      "text/plain": [
       "<Figure size 432x288 with 1 Axes>"
      ]
     },
     "metadata": {
      "needs_background": "light"
     },
     "output_type": "display_data"
    }
   ],
   "source": [
    "idx = 0\n",
    "plt.imshow(preds[idx])"
   ]
  },
  {
   "cell_type": "code",
   "execution_count": 41,
   "id": "altered-therapist",
   "metadata": {},
   "outputs": [
    {
     "data": {
      "text/plain": [
       "<matplotlib.image.AxesImage at 0x7fbcf5e784c0>"
      ]
     },
     "execution_count": 41,
     "metadata": {},
     "output_type": "execute_result"
    },
    {
     "data": {
      "image/png": "[encoded data removed]",
      "text/plain": [
       "<Figure size 432x288 with 1 Axes>"
      ]
     },
     "metadata": {
      "needs_background": "light"
     },
     "output_type": "display_data"
    }
   ],
   "source": [
    "img = list(data[1])[idx][1].numpy()[0]\n",
    "plt.imshow(img)"
   ]
  },
  {
   "cell_type": "code",
   "execution_count": null,
   "id": "invisible-collins",
   "metadata": {},
   "outputs": [],
   "source": []
  }
 ],
 "metadata": {
  "kernelspec": {
   "display_name": "Python 3",
   "language": "python",
   "name": "python3"
  },
  "language_info": {
   "codemirror_mode": {
    "name": "ipython",
    "version": 3
   },
   "file_extension": ".py",
   "mimetype": "text/x-python",
   "name": "python",
   "nbconvert_exporter": "python",
   "pygments_lexer": "ipython3",
   "version": "3.9.4"
  }
 },
 "nbformat": 4,
 "nbformat_minor": 5
}
