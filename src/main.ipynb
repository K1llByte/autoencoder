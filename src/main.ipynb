{
 "cells": [
  {
   "cell_type": "markdown",
   "metadata": {},
   "source": [
    "# Tecnologias e Aplicações"
   ]
  },
  {
   "cell_type": "code",
   "execution_count": 1,
   "metadata": {},
   "outputs": [
    {
     "name": "stderr",
     "output_type": "stream",
     "text": [
      "WARNING:root:Limited tf.compat.v2.summary API due to missing TensorBoard installation.\n",
      "WARNING:root:Limited tf.compat.v2.summary API due to missing TensorBoard installation.\n",
      "WARNING:root:Limited tf.compat.v2.summary API due to missing TensorBoard installation.\n",
      "WARNING:root:Limited tf.summary API due to missing TensorBoard installation.\n"
     ]
    }
   ],
   "source": [
    "from autoencoder import fetch_data, make_model, train, latent_predict, load_and_predict, IMAGE_SIZE, NUM_CLASSES\n",
    "import matplotlib.pyplot as plt\n",
    "import tensorflow as tf"
   ]
  },
  {
   "cell_type": "code",
   "execution_count": 2,
   "metadata": {},
   "outputs": [],
   "source": [
    "# Fetch 'chinese_mnist' dataset and prepare data\n",
    "data = fetch_data(\"../data/chinese_mnist\")"
   ]
  },
  {
   "cell_type": "code",
   "execution_count": 3,
   "metadata": {},
   "outputs": [],
   "source": [
    "# Make and compile Encode & Decoder\n",
    "model = make_model(NUM_CLASSES, IMAGE_SIZE)"
   ]
  },
  {
   "cell_type": "code",
   "execution_count": 4,
   "metadata": {
    "tags": []
   },
   "outputs": [
    {
     "name": "stdout",
     "output_type": "stream",
     "text": [
      "[INFO] Training Model ...\n",
      "Epoch 1/23\n",
      "329/329 [==============================] - 155s 467ms/step - loss: 0.1643 - val_loss: 0.0575\n",
      "Epoch 2/23\n",
      "329/329 [==============================] - 114s 347ms/step - loss: 0.0498 - val_loss: 0.0470\n",
      "Epoch 3/23\n",
      "329/329 [==============================] - 99s 301ms/step - loss: 0.0463 - val_loss: 0.0454\n",
      "Epoch 4/23\n",
      "329/329 [==============================] - 130s 395ms/step - loss: 0.0453 - val_loss: 0.0448\n",
      "Epoch 5/23\n",
      "329/329 [==============================] - 105s 319ms/step - loss: 0.0447 - val_loss: 0.0445\n",
      "Epoch 6/23\n",
      "329/329 [==============================] - 135s 411ms/step - loss: 0.0444 - val_loss: 0.0442\n",
      "Epoch 7/23\n",
      "329/329 [==============================] - 96s 291ms/step - loss: 0.0442 - val_loss: 0.0441\n",
      "Epoch 8/23\n",
      "329/329 [==============================] - 122s 370ms/step - loss: 0.0440 - val_loss: 0.0439\n",
      "Epoch 9/23\n",
      "329/329 [==============================] - 121s 366ms/step - loss: 0.0439 - val_loss: 0.0432\n",
      "Epoch 10/23\n",
      "329/329 [==============================] - 132s 403ms/step - loss: 0.0422 - val_loss: 0.0413\n",
      "Epoch 11/23\n",
      "329/329 [==============================] - 113s 342ms/step - loss: 0.0412 - val_loss: 0.0412\n",
      "Epoch 12/23\n",
      "329/329 [==============================] - 148s 449ms/step - loss: 0.0411 - val_loss: 0.0411\n",
      "Epoch 13/23\n",
      "329/329 [==============================] - 96s 292ms/step - loss: 0.0410 - val_loss: 0.0410\n",
      "Epoch 14/23\n",
      "329/329 [==============================] - 111s 336ms/step - loss: 0.0409 - val_loss: 0.0411\n",
      "Epoch 15/23\n",
      "329/329 [==============================] - 122s 373ms/step - loss: 0.0409 - val_loss: 0.0410\n",
      "Epoch 16/23\n",
      "329/329 [==============================] - 118s 357ms/step - loss: 0.0408 - val_loss: 0.0410\n",
      "Epoch 17/23\n",
      "329/329 [==============================] - 110s 334ms/step - loss: 0.0408 - val_loss: 0.0410\n",
      "Epoch 18/23\n",
      "329/329 [==============================] - 140s 426ms/step - loss: 0.0404 - val_loss: 0.0385\n",
      "Epoch 19/23\n",
      "329/329 [==============================] - 90s 274ms/step - loss: 0.0383 - val_loss: 0.0378\n",
      "Epoch 20/23\n",
      "329/329 [==============================] - 86s 261ms/step - loss: 0.0376 - val_loss: 0.0377\n",
      "Epoch 21/23\n",
      "329/329 [==============================] - 121s 367ms/step - loss: 0.0376 - val_loss: 0.0377\n",
      "Epoch 22/23\n",
      "329/329 [==============================] - 112s 341ms/step - loss: 0.0373 - val_loss: 0.0370\n",
      "Epoch 23/23\n",
      "329/329 [==============================] - 116s 353ms/step - loss: 0.0368 - val_loss: 0.0370\n",
      "[INFO] Training Finished\n"
     ]
    }
   ],
   "source": [
    "# Train or load a pretrained model if it exists\n",
    "epochs=23\n",
    "model = train(model, data, model_file=f'../models/ae_{epochs}epochs', num_epochs=epochs)"
   ]
  },
  {
   "cell_type": "code",
   "execution_count": 5,
   "metadata": {},
   "outputs": [],
   "source": [
    "#tf.keras.utils.plot_model(model[0],show_shapes=True)\n",
    "#tf.keras.utils.plot_model(model[1],show_shapes=True)\n",
    "#tf.keras.utils.plot_model(model[2],show_shapes=True)"
   ]
  },
  {
   "cell_type": "code",
   "execution_count": 7,
   "metadata": {},
   "outputs": [
    {
     "name": "stdout",
     "output_type": "stream",
     "text": [
      "ok1\n",
      "<class 'tensorflow.python.data.ops.dataset_ops.PrefetchDataset'>\n",
      "ok2\n"
     ]
    }
   ],
   "source": [
    "#pred = latent_predict(model, [[5, 5]])\n",
    "#list(data[1])\n",
    "\n",
    "#plt.imshow(pred.squeeze())\n",
    "\n",
    "#print(list(data[1]))\n",
    "\n",
    "preds = load_and_predict(model, data)\n",
    "#chosen_idx = 0\n",
    "#chosen_img = list(data[1])[chosen_idx][1].numpy()[0]\n",
    "\n",
    "#print(type(chosen_img))\n",
    "\n",
    "#_, _, autoencoder = model\n",
    "#pred = autoencoder.predict(chosen_img)\n"
   ]
  },
  {
   "cell_type": "code",
   "execution_count": 12,
   "metadata": {},
   "outputs": [
    {
     "data": {
      "text/plain": [
       "<matplotlib.image.AxesImage at 0x7f16cfbb14c0>"
      ]
     },
     "execution_count": 12,
     "metadata": {},
     "output_type": "execute_result"
    },
    {
     "data": {
      "image/png": "[encoded data removed]",
      "text/plain": [
       "<Figure size 432x288 with 1 Axes>"
      ]
     },
     "metadata": {
      "needs_background": "light"
     },
     "output_type": "display_data"
    }
   ],
   "source": [
    "idx = 4\n",
    "plt.imshow(preds[idx])\n",
    "\n",
    "#autoencoder.predict(data[1])"
   ]
  },
  {
   "cell_type": "code",
   "execution_count": 13,
   "metadata": {},
   "outputs": [
    {
     "data": {
      "text/plain": [
       "<matplotlib.image.AxesImage at 0x7f16cfb08940>"
      ]
     },
     "execution_count": 13,
     "metadata": {},
     "output_type": "execute_result"
    },
    {
     "data": {
      "image/png": "[encoded data removed]",
      "text/plain": [
       "<Figure size 432x288 with 1 Axes>"
      ]
     },
     "metadata": {
      "needs_background": "light"
     },
     "output_type": "display_data"
    }
   ],
   "source": [
    "#print( list(data[1])[idx] )\n",
    "img = list(data[1])[idx][1].numpy()[0]\n",
    "plt.imshow(img)"
   ]
  },
  {
   "cell_type": "code",
   "execution_count": null,
   "metadata": {},
   "outputs": [],
   "source": []
  },
  {
   "cell_type": "code",
   "execution_count": null,
   "metadata": {
    "jupyter": {
     "source_hidden": true
    },
    "tags": []
   },
   "outputs": [],
   "source": []
  },
  {
   "cell_type": "code",
   "execution_count": null,
   "metadata": {
    "tags": []
   },
   "outputs": [],
   "source": []
  }
 ],
 "metadata": {
  "kernelspec": {
   "display_name": "Python 3",
   "language": "python",
   "name": "python3"
  },
  "language_info": {
   "codemirror_mode": {
    "name": "ipython",
    "version": 3
   },
   "file_extension": ".py",
   "mimetype": "text/x-python",
   "name": "python",
   "nbconvert_exporter": "python",
   "pygments_lexer": "ipython3",
   "version": "3.9.2"
  }
 },
 "nbformat": 4,
 "nbformat_minor": 5
}
